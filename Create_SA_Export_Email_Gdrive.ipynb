{
  "nbformat": 4,
  "nbformat_minor": 0,
  "metadata": {
    "colab": {
      "name": "Create SA- Export Email - Gdrive.ipynb",
      "provenance": [],
      "collapsed_sections": [],
      "include_colab_link": true
    },
    "kernelspec": {
      "name": "python3",
      "display_name": "Python 3"
    }
  },
  "cells": [
    {
      "cell_type": "markdown",
      "metadata": {
        "id": "view-in-github",
        "colab_type": "text"
      },
      "source": [
        "<a href=\"https://colab.research.google.com/github/rappergi/SA_AutoRclone/blob/master/Create_SA_Export_Email_Gdrive.ipynb\" target=\"_parent\"><img src=\"https://colab.research.google.com/assets/colab-badge.svg\" alt=\"Open In Colab\"/></a>"
      ]
    },
    {
      "cell_type": "markdown",
      "metadata": {
        "id": "jCp-hbYQ5JHj",
        "colab_type": "text"
      },
      "source": [
        "\n",
        "## <font color = \"#95C7AE\"> Colab này được sử dụng để tạo tệp SA và trích xuất địa chỉ email của tệp SA  \n",
        "## <font color = \"#95C7AE\">Nếu bạn chưa hiểu cách vận hành, bạn có thể tham khảo hướng dẫn：[https://qianjie.space/posts/32e66009.html](https://qianjie.space/posts/32e66009.html)\n",
        "\n",
        "## <font color = \"#95C7AE\">hướng dẫn xây dựng gd-utils：  \n",
        "## <font color = \"#95C7AE\">TEXT：[https://qianjie.space/posts/bcce7dca.html](https://qianjie.space/posts/bcce7dca.html)   \n",
        "## <font color = \"#95C7AE\">VIDEO：[https://youtu.be/UH0CW86V2hw](https://youtu.be/UH0CW86V2hw)"
      ]
    },
    {
      "cell_type": "code",
      "metadata": {
        "id": "0GegM1LDsJLZ",
        "colab_type": "code",
        "cellView": "form",
        "colab": {}
      },
      "source": [
        "#@markdown <h3>← Nhấp vào đây để chạy, tương tự bên dưới\n",
        "#@markdown <br><left><img src='https://upload.wikimedia.org/wikipedia/commons/thumb/d/da/Google_Drive_logo.png/600px-Google_Drive_logo.png' height=\"50\" alt=\"Gdrive-logo\"/></left>\n",
        "#@markdown <h2> Gắn Google Cloud Disk và cài đặt AutoRlone\n",
        "#@markdown <h2>Cloud được mount ở đây chỉ được sử dụng để lưu trữ các tệp được tạo sau này và không liên quan gì đến SA\n",
        "from google.colab import drive\n",
        "from IPython.display import clear_output\n",
        "\n",
        "drive.mount('/content/drive')\n",
        "\n",
        "clear_output()\n",
        "print(\"Tiến hành Cài đặt AutoClone\")\n",
        "!git clone https://github.com/rappergi/SA_AutoRclone\n",
        "%cd AutoRclone\n",
        "!pip3 install -r requirements.txt\n",
        "\n",
        "clear_output()\n",
        "print(\"Cài đặt thành công\")\n"
      ],
      "execution_count": null,
      "outputs": []
    },
    {
      "cell_type": "markdown",
      "metadata": {
        "id": "0g_di-cBR5qP",
        "colab_type": "text"
      },
      "source": [
        "### Nhấp vào liên kết để tải xuống tệp credentials.json\n",
        "\n",
        "Link：[https://developers.google.com/drive/api/v3/quickstart/python](https://developers.google.com/drive/api/v3/quickstart/python)  \n",
        "### Sau khi quá trình tải xuống hoàn tất, hãy nhấp vào biểu tượng thư mục trên thanh bên trái để tải tệp tin credentials.json đã tải xuống vào thư mục AutoClone.\n",
        "### <font color=#95C7AE> Nếu bạn đã lưu nó ở máy rồi, vui lòng tải lên trực tiếp  \n",
        "\n"
      ]
    },
    {
      "cell_type": "code",
      "metadata": {
        "id": "Y3sdLgUzilrV",
        "colab_type": "code",
        "cellView": "form",
        "colab": {}
      },
      "source": [
        "#@markdown <h4>Nếu chưa tạo Project bao giờ ,để chạy cái này, bạn cần điền số Project cần tạo bên dưới,<font color=#95C7AE>mỗi Project tương ứng với 100 tài khoản SA</font>\n",
        "\n",
        "N = \"\" #@param {type: \"string\"}\n",
        "\n",
        "\n",
        "!python3 gen_sa_accounts.py --quick-setup \"$N\" --max-projects 999"
      ],
      "execution_count": null,
      "outputs": []
    },
    {
      "cell_type": "code",
      "metadata": {
        "id": "cm4h1UIxi1Dt",
        "colab_type": "code",
        "cellView": "form",
        "colab": {}
      },
      "source": [
        "#@markdown <h4>Các Project hiện có, bạn cần tạo một Project mới. Nếu bạn muốn tải xuống tất cả các tệp SA và giải nén hộp thư, hãy chạy cái này，Điền số lượng dự án bạn cần tạo bên dưới<font color=#95C7AE>mỗi Project tương ứng với 100 tài khoản SA</font>\n",
        "\n",
        "N = \"\" #@param {type: \"string\"}\n",
        "\n",
        "\n",
        "!python3 gen_sa_accounts.py --quick-setup \"$N\" --max-projects 999"
      ],
      "execution_count": null,
      "outputs": []
    },
    {
      "cell_type": "code",
      "metadata": {
        "id": "lNKjsi2I8-0z",
        "colab_type": "code",
        "cellView": "form",
        "colab": {}
      },
      "source": [
        "#@markdown <h4>Các Project hiện có, bạn cần tạo mới nhưng chỉ muốn tải xuống tệp SA của dự án mới và giải nén emails! click vào để chạy.Điền số lượng dự án bạn cần tạo bên dưới <font color=#95C7AE>mỗi Project tương ứng với 100 tài khoản SA</font>\n",
        "\n",
        "N = \"\" #@param {type: \"string\"}\n",
        "\n",
        "\n",
        "!python3 gen_sa_accounts.py --quick-setup \"$N\" --max-projects 999"
      ],
      "execution_count": null,
      "outputs": []
    },
    {
      "cell_type": "code",
      "metadata": {
        "id": "f7lFlW2TtHTN",
        "colab_type": "code",
        "cellView": "form",
        "colab": {}
      },
      "source": [
        "#@markdown <h4> Nếu đã có Project, Không cần chạy cái này\n",
        "\n",
        "\n",
        "!python3 gen_sa_accounts.py --quick-setup -1 --max-projects 999"
      ],
      "execution_count": null,
      "outputs": []
    },
    {
      "cell_type": "markdown",
      "metadata": {
        "id": "-9HwPFaF345P",
        "colab_type": "text"
      },
      "source": [
        "###Sau khi tải xuống hoàn tất, hãy nhấp vào biểu tượng thư mục ở bên trái để xem có tệp SA trong đường dẫn / AutoRclone / account không\n",
        "   \n",
        "###Nếu có , SA sẽ hiện sau khi lệnh được thực thi, nếu không, quá trình tải xuống không thành công."
      ]
    },
    {
      "cell_type": "code",
      "metadata": {
        "id": "45O1uAPkuXpx",
        "colab_type": "code",
        "cellView": "form",
        "colab": {}
      },
      "source": [
        "#@markdown <h4>Nếu có tệp SA trong đường dẫn AutoRclone / accounts, vui lòng thực hiện bước này\n",
        "\n",
        "!cat /content/AutoRclone/accounts/*.json | grep \"client_email\" | awk '{print $2}'| tr -d ',\"' | sed 'N;N;N;N;N;N;N;N;N;N;N;N;N;N;N;N;N;N;N;N;N;N;N;N;N;N;N;N;N;N;N;N;N;N;N;N;N;N;N;N;N;N;N;N;N;N;N;N;N;N;N;N;N;N;N;N;N;N;N;N;N;N;N;N;N;N;N;N;N;N;N;N;N;N;N;N;N;N;N;N;N;N;N;N;N;N;N;N;N;N;N;N;N;N;N;N;N;N;N;/^$/d;G' > /content/email.txt\n",
        "%cp /content/email.txt /content/drive/\"My Drive\"\n",
        "!mkdir /content/AutoRclone/sa\n",
        "%cp /content/AutoRclone/accounts/*.json /content/AutoRclone/sa\n",
        "\n",
        "MODE = \"ZIP\"\n",
        "FILENAME = \"sa.zip\" \n",
        "PATH_TO_FILE = \"/content/AutoRclone/sa\"\n",
        "ARCHIVE_PASSWORD = \"\"\n",
        "compress = 1\n",
        "from pathlib import PurePosixPath\n",
        "from IPython.display import clear_output\n",
        "\n",
        "pathList = PATH_TO_FILE.split('|')\n",
        "if MODE == \"ZIP\":\n",
        "    if not FILENAME:\n",
        "      FILENAME = \"/content/NEW_FILE.ZIP\"\n",
        "    if ARCHIVE_PASSWORD:\n",
        "      passADD = f'--password \"{ARCHIVE_PASSWORD}\"'\n",
        "    else:\n",
        "      passADD = ''\n",
        "    for part in pathList:\n",
        "      pathdic = PurePosixPath(part.strip())\n",
        "      parent = pathdic.parent\n",
        "      partName = pathdic.parts[-1]\n",
        "      cmd = f'cd \"{parent}\" && zip {passADD} -{compress} -v -r -u \"{FILENAME}\" \"{partName}\"'\n",
        "      !$cmd\n",
        "\n",
        "%cp /content/AutoRclone/sa.zip /content/drive/\"My Drive\"\n",
        "clear_output()\n",
        "print(\"Bạn đã hoàn tất, bây giờ hãy truy cập thư mục gốc của GDrive để xem có tệp email.txt và sa.zip hay không.\")"
      ],
      "execution_count": null,
      "outputs": []
    },
    {
      "cell_type": "markdown",
      "metadata": {
        "id": "_S2JiUalRQIR",
        "colab_type": "text"
      },
      "source": [
        "## Sau khi quá trình thực thi hoàn tất, tệp nén sa.zip của SA và tệp văn bản email.txt của địa chỉ email sẽ được lưu trong đĩa đám mây của bạn。Nếu bạn đang sử dụng Colad_gd-utils, bạn có thể lưu các bước tải lên và nén khi bạn sử dụng lần đầu tiên và chạy trực tiếp"
      ]
    }
  ]
}
